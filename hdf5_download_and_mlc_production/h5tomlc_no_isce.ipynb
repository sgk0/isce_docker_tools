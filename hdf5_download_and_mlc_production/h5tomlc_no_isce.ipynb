{
 "cells": [
  {
   "cell_type": "code",
   "execution_count": 33,
   "metadata": {},
   "outputs": [],
   "source": [
    "import os, h5py, shutil\n",
    "import zipfile\n",
    "import numpy as np\n",
    "import subprocess as sp\n",
    "import pandas as pd\n",
    "import matplotlib.pyplot as plt\n",
    "from skimage.util.shape import view_as_blocks"
   ]
  },
  {
   "cell_type": "code",
   "execution_count": 12,
   "metadata": {},
   "outputs": [],
   "source": [
    "###----------------------user setting here\n",
    "\n",
    "filenum=0 #there are 6 total, use numbers 0 through 5\n",
    "CAMPAIGN='Grnlnd' #or 'NISARA' for AM and 'NISARP' for PM\n",
    "SITE='00005'\n",
    "PROD='129' #129 = global 20 & 5 MHz, 138 = US Ag 40 & 5 MHz\n",
    "PROD2='CG' #CX = normal, CG = dithered-gaps, CD = dithered-no-gaps\n",
    "channels='A' #A is (HH,HV) and has higher frequency compared to B (20 or 40 MHz vs 5 or 20 MHz); whereas B is (VH,VV). PROD='143' has both channels at 20 MHz\n",
    "pol = 'HH'\n",
    "# symmetrize = 1 #use UAVSAR's approach for symmetrizing HV and VH\n",
    "#symmetrization: based on the principle of reciprocity HV should give the same result of VH. But due to instrument limitations (e.g. thermal noise/channel imbalance/cable lengths)\n",
    "#vh and hv will not match in practice. The symmetrization is a statistical approach for reducing the imbalance, where the entire image statistics are used as inputs\n",
    "#to determine correction factors for magnitude and phase for this imbalance. As result, the HV and VH channels will become much more similar on the whole; but there may still be some clear\n",
    "#differences at the level of individual pixels."
   ]
  },
  {
   "cell_type": "code",
   "execution_count": 13,
   "metadata": {},
   "outputs": [
    {
     "data": {
      "text/plain": [
       "'Grnlnd_00005_09030_007_090527_L090_CG_129_03.h5'"
      ]
     },
     "execution_count": 13,
     "metadata": {},
     "output_type": "execute_result"
    }
   ],
   "source": [
    "fnr = [f for f in os.listdir('.') if f.endswith('.h5')][filenum]#here: 'Grnlnd_00005_09030_007_090527_L090_CG_129_03.h5'\n",
    "fnr"
   ]
  },
  {
   "cell_type": "code",
   "execution_count": 14,
   "metadata": {},
   "outputs": [
    {
     "name": "stdout",
     "output_type": "stream",
     "text": [
      "(28942, 2640)\n"
     ]
    }
   ],
   "source": [
    "n_HH = 'science/LSAR/SLC/swaths/frequency'+channels+'/HH'\n",
    "    #only testing HH, no symmetrisation needed\n",
    "# n_HV = 'science/LSAR/SLC/swaths/frequency'+channels+'/HV'\n",
    "# n_VH = 'science/LSAR/SLC/swaths/frequency'+channels+'/VH'\n",
    "# n_VV = 'science/LSAR/SLC/swaths/frequency'+channels+'/VV'\n",
    "\n",
    "with h5py.File(fnr, 'r') as f:  \n",
    "    dat_HH = f[n_HH][()]\n",
    "    print(dat_HH.shape)"
   ]
  },
  {
   "cell_type": "code",
   "execution_count": 16,
   "metadata": {},
   "outputs": [],
   "source": [
    "#write the slc array data\n",
    "aa = os.path.split(fnr)[1].split('_'+PROD2)\n",
    "basen_s = aa[0]\n",
    "basen_e = aa[1]\n",
    "fno = basen_s + pol +'_CX'+basen_e[:-2]+'slc'\n",
    "fno = fno.replace('_'+PROD, '_'+PROD+channels)\n",
    "\n",
    "dat_HH.tofile(fno)"
   ]
  },
  {
   "cell_type": "code",
   "execution_count": 29,
   "metadata": {},
   "outputs": [
    {
     "name": "stderr",
     "output_type": "stream",
     "text": [
      "D:\\Anaconda3\\envs\\cf\\lib\\site-packages\\ipykernel_launcher.py:2: ComplexWarning: Casting complex values to real discards the imaginary part\n",
      "  \n"
     ]
    }
   ],
   "source": [
    "#take 'cross product'\n",
    "dat_HHHH = (dat_HH*dat_HH.conjugate()).astype(np.float32)"
   ]
  },
  {
   "cell_type": "code",
   "execution_count": 42,
   "metadata": {},
   "outputs": [
    {
     "data": {
      "text/plain": [
       "array([[2.2712359e-04, 2.2217163e-04, 1.3303758e-04, ..., 2.1639757e-04,\n",
       "        2.0540999e-04, 4.5840152e-05],\n",
       "       [4.2941788e-04, 1.2820647e-03, 1.1318357e-03, ..., 1.2123203e-03,\n",
       "        3.4086962e-04, 5.6789716e-04],\n",
       "       [2.0697970e-04, 2.3592707e-04, 9.6793758e-04, ..., 9.4139083e-05,\n",
       "        6.2010229e-05, 2.6249481e-04],\n",
       "       ...,\n",
       "       [1.1744055e-04, 1.3135451e-04, 1.0355081e-04, ..., 1.9424166e-05,\n",
       "        1.7257403e-04, 1.3536782e-04],\n",
       "       [1.6714798e-03, 8.7150279e-04, 9.1353548e-05, ..., 1.7130644e-04,\n",
       "        8.6226471e-04, 3.5169264e-04],\n",
       "       [5.0896063e-04, 4.2180961e-04, 8.8740664e-04, ..., 7.7453878e-04,\n",
       "        1.6740111e-04, 6.5280049e-04]], dtype=float32)"
      ]
     },
     "execution_count": 42,
     "metadata": {},
     "output_type": "execute_result"
    }
   ],
   "source": [
    "dat_HHHH"
   ]
  },
  {
   "cell_type": "code",
   "execution_count": 43,
   "metadata": {},
   "outputs": [],
   "source": [
    "#multi looking. \n",
    "#If want to feed these data to the ISCE RTC procesing:\n",
    "#Check the .ann file to see the number of row and colums the MLC is supposed to have. Then multi look accordingly. If needed skip a row or column.\n",
    "#note: alooks = 2, and if prod is 138 rlooks = 2. Else rlooks = 1. \n",
    "#the ann shows for mlc_pwr.set_rows = 14471 and  mlc_pwr.set_cols =2640 cols\n",
    "#dat_HH.shape shows (28942, 2640), so this works out without needing to skip any rows or columns"
   ]
  },
  {
   "cell_type": "code",
   "execution_count": 49,
   "metadata": {},
   "outputs": [],
   "source": [
    "view = view_as_blocks(dat_HHHH, (2, 1)) \n",
    "flatten_view = view.reshape(view.shape[0], view.shape[1], -1)\n",
    "mlook_HHHH = np.mean(flatten_view, axis=2)"
   ]
  },
  {
   "cell_type": "code",
   "execution_count": 51,
   "metadata": {},
   "outputs": [
    {
     "data": {
      "text/plain": [
       "array([[3.2827072e-04, 7.5211818e-04, 6.3243665e-04, ..., 7.1435893e-04,\n",
       "        2.7313980e-04, 3.0686866e-04],\n",
       "       [3.2200609e-04, 7.2697707e-04, 5.4426148e-04, ..., 7.5848959e-04,\n",
       "        2.3122547e-04, 6.7627890e-04],\n",
       "       [3.3598513e-04, 9.8956494e-05, 5.6545518e-04, ..., 7.9105352e-04,\n",
       "        3.1839398e-04, 6.2175663e-05],\n",
       "       ...,\n",
       "       [9.8057045e-04, 8.6992770e-04, 3.8915282e-04, ..., 3.9476281e-04,\n",
       "        1.2730164e-03, 5.4349360e-04],\n",
       "       [5.0977350e-04, 3.2812802e-04, 1.2775415e-04, ..., 3.1113723e-05,\n",
       "        1.3174534e-04, 1.5907839e-04],\n",
       "       [1.0902202e-03, 6.4665620e-04, 4.8938009e-04, ..., 4.7292261e-04,\n",
       "        5.1483291e-04, 5.0224655e-04]], dtype=float32)"
      ]
     },
     "execution_count": 51,
     "metadata": {},
     "output_type": "execute_result"
    }
   ],
   "source": [
    "mlook_HHHH"
   ]
  },
  {
   "cell_type": "code",
   "execution_count": 53,
   "metadata": {},
   "outputs": [
    {
     "name": "stdout",
     "output_type": "stream",
     "text": [
      "0.00032827071845531464\n",
      "0.00032827072\n"
     ]
    }
   ],
   "source": [
    "#check math\n",
    "chk = (dat_HHHH[0,0]+dat_HHHH[1,0])/2  #averaging in azimuth: averaging pixels along rows. Here the first pixel in first row, with first pixel in second row \n",
    "print(chk)\n",
    "print(mlook_HHHH[0,0]) #truncated because I use float32 instead of float64"
   ]
  },
  {
   "cell_type": "code",
   "execution_count": 54,
   "metadata": {},
   "outputs": [
    {
     "data": {
      "text/plain": [
       "(14471, 2640)"
      ]
     },
     "execution_count": 54,
     "metadata": {},
     "output_type": "execute_result"
    }
   ],
   "source": [
    "mlook_HHHH.shape"
   ]
  },
  {
   "cell_type": "code",
   "execution_count": 58,
   "metadata": {},
   "outputs": [],
   "source": [
    "#write the mlc array data\n",
    "aa = os.path.split(fnr)[1].split('_'+PROD2)\n",
    "basen_s = aa[0]\n",
    "basen_e = aa[1]\n",
    "fno = basen_s + pol +'_CX'+basen_e[:-2]+'mlc'\n",
    "fno = fno.replace('_'+PROD, '_'+PROD+channels)\n",
    "fno = fno.replace('HH', 'HHHH')\n",
    "\n",
    "mlook_HHHH.tofile(fno)"
   ]
  },
  {
   "cell_type": "code",
   "execution_count": 60,
   "metadata": {},
   "outputs": [],
   "source": [
    "#function for writing the vrt\n",
    "def genvrt(fni, cl, rw, lo):\n",
    "    tmp = \"\"\"<VRTDataset rasterXSize='{cl}' rasterYSize='{rw}'>\n",
    "    <VRTRasterBand band=\"1\" dataType=\"Float32\" subClass=\"VRTRawRasterBand\">\n",
    "        <SourceFilename relativeToVRT=\"1\">{fni}</SourceFilename>\n",
    "        <ByteOrder>LSB</ByteOrder>\n",
    "        <ImageOffset>0</ImageOffset>\n",
    "        <PixelOffset>4</PixelOffset>\n",
    "        <LineOffset>{lo}</LineOffset>\n",
    "    </VRTRasterBand>\n",
    "</VRTDataset>\"\"\"\n",
    "\n",
    "    context = {\"cl\":cl, \"rw\":rw, \"fni\":fni, \"lo\":lo}\n",
    "    with open(fni+'.vrt', 'w') as f:\n",
    "        f.write(tmp.format(**context))"
   ]
  },
  {
   "cell_type": "code",
   "execution_count": 61,
   "metadata": {},
   "outputs": [],
   "source": [
    "genvrt(fno, 2640, 14471, mlook_HHHH.shape[1]*4)"
   ]
  },
  {
   "cell_type": "code",
   "execution_count": null,
   "metadata": {},
   "outputs": [],
   "source": [
    "#for comparison check the qgis file compare_noISCE_toISCE. It is important to note that ISCE attaches some projection information to the vrt, you should delete those lines before comparing:\n",
    "#<SRS>EPSG:4326</SRS>\n",
    "#<GeoTransform>0.0, 1.0, 0.0, 0.5, 0.0, 2.0</GeoTransform>\n",
    "#I see no difference. All array entries are 0."
   ]
  }
 ],
 "metadata": {
  "kernelspec": {
   "display_name": "Python 3",
   "language": "python",
   "name": "python3"
  },
  "language_info": {
   "codemirror_mode": {
    "name": "ipython",
    "version": 3
   },
   "file_extension": ".py",
   "mimetype": "text/x-python",
   "name": "python",
   "nbconvert_exporter": "python",
   "pygments_lexer": "ipython3",
   "version": "3.7.5"
  }
 },
 "nbformat": 4,
 "nbformat_minor": 4
}
